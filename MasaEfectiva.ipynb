{
 "cells": [
  {
   "cell_type": "code",
   "execution_count": 31,
   "metadata": {},
   "outputs": [],
   "source": [
    "import pdb\n",
    "import numpy as np\n",
    "import matplotlib.pyplot as plt\n",
    "from scipy.optimize import curve_fit\n",
    "hbar = 6.582119569e-16# eV s\n",
    "me = 0.51099895000e9 # eV\n",
    "# red recíproca:"
   ]
  },
  {
   "cell_type": "markdown",
   "metadata": {},
   "source": [
    "\n",
    "[para ver los puntos especiales de la red tetragonal:](http://lamp.tu-graz.ac.at/~hadley/ss1/bzones/tet.php)"
   ]
  },
  {
   "cell_type": "markdown",
   "metadata": {},
   "source": [
    "# Cálculo de la masa efectiva\n",
    "\n",
    "Puede [verse fácilmente](https://en.wikipedia.org/wiki/Effective_mass_(solid-state_physics))  que la masa efectiva en el caso anisotrópico puede calcularse fácilmente ajustando:\n",
    "\n",
    "$$ E(k = \\Gamma) = Eo + \\frac{\\hbar^2}{2 m^*_x } k_x^2 + \\frac{\\hbar^2}{2 m^*_y } k_y ^2 + \\frac{\\hbar^2}{2 m^*_z } k_z ^2  $$"
   ]
  },
  {
   "cell_type": "markdown",
   "metadata": {},
   "source": [
    "y entoncs, pudo definir una masa vectorial: en base al vector de coeficientes que saqué del ajuste:\n",
    "\n",
    "$$ \\vec{b} = \\frac{\\hbar^2} {2} \\left( 1/m_x^*, 1/m_y^*, 1/m_x^* \\right) = \\frac{\\hbar^2}{2} \\frac{1}{m^*}$$\n",
    "\n",
    "$$ \\frac{1}{m^*} = \\frac{2}{\\hbar} \\vec{b} $$"
   ]
  },
  {
   "cell_type": "markdown",
   "metadata": {},
   "source": [
    "y entonces: \n",
    "$$ \\frac{m_e}{m*} = \\frac{2m_e}{\\hbar^2} \\vec{b} $$\n",
    "$$ \\frac{m*}{me} = \\frac{1}{2}\\frac{\\hbar^2}{m_e} \\frac{1}{\\vec{b}} $$"
   ]
  },
  {
   "cell_type": "markdown",
   "metadata": {},
   "source": [
    "donde segun pablo, sé que $\\hbar^2 / m_e = 7.6202713 eV Å^2$"
   ]
  },
  {
   "cell_type": "markdown",
   "metadata": {},
   "source": [
    "y luego la conductividad (creo) es :\n",
    "$$ m* = 3 \\left( \\frac{1}{m^*_x} + \\frac{1}{m^*_y}+ \\frac{1}{m^*_z}\\right) $$"
   ]
  },
  {
   "cell_type": "markdown",
   "metadata": {},
   "source": [
    "Ahora bien, segun [Garcia et al](1) las masas efectivas son :\n",
    "\n",
    "| camino   | hueco | electrones|\n",
    "|-------------------------|-------|-----------|\n",
    "|$$ M \\rightarrow \\Gamma $$ | 0.47  |        |\n",
    "|$$ \\Gamma \\rightarrow Z $$ | 5.31  |    2.32   |\n",
    "|$$ Z \\rightarrow R      $$ | 0.83  |        |\n",
    "\n",
    "donde los puntos son [Curtarolo et al](2):\n",
    "    ![FromWikipedia](Brillouin_zone.png)\n",
    "\n",
    "[1]: https://aip.scitation.org/doi/10.1063/1.2386967\n",
    "[2]: https://doi.org/10.1016%2Fj.commatsci.2010.05.010"
   ]
  },
  {
   "cell_type": "markdown",
   "metadata": {},
   "source": [
    "con lo cual yo estoy calculando solamente $m_z$"
   ]
  },
  {
   "cell_type": "code",
   "execution_count": 14,
   "metadata": {},
   "outputs": [
    {
     "name": "stdout",
     "output_type": "stream",
     "text": [
      "=======================\n",
      "a_0.95\n",
      "4.09964038 [-7.52961938 -5.12574231 -1.26981217]\n",
      "\n",
      "8.39858363 [0.68718387 1.2109189  3.08937437]\n",
      "\n",
      "=======================\n",
      "a_0.96\n",
      "3.82747111 [-6.41884241 -5.37508154 -1.43918965]\n",
      "\n",
      "8.05101662 [0.71325187 1.2288461  3.19175076]\n",
      "\n",
      "=======================\n",
      "a_0.97\n",
      "3.56610586 [-6.19468048 -5.25972414 -1.71079853]\n",
      "\n",
      "7.71014406 [0.74019901 1.24774279 3.29595738]\n",
      "\n",
      "=======================\n",
      "a_0.98\n",
      "3.31434726 [-5.46258491 -5.12210306 -2.06619035]\n",
      "\n",
      "7.37693983 [0.76812745 1.2685722  3.40322849]\n",
      "\n",
      "=======================\n",
      "a_0.99\n",
      "3.07120969 [-4.78855693 -4.85495088 -2.57440201]\n",
      "\n",
      "7.0502406 [0.79662386 1.29232065 3.51759302]\n",
      "\n",
      "=======================\n",
      "a_1.00\n",
      "2.86052063 [-4.24947841 -4.170328   -3.18209371]\n",
      "\n",
      "6.73035522 [0.82573477 1.3181081  3.63566281]\n",
      "\n",
      "=======================\n",
      "a_1.01\n",
      "2.655351 [-3.73695553 -3.74914883 -4.02163672]\n",
      "\n",
      "6.41708564 [0.85551791 1.34601927 3.75706665]\n",
      "\n",
      "=======================\n",
      "a_1.02\n",
      "2.45787566 [-3.31964929 -3.37647736 -5.26382357]\n",
      "\n",
      "6.11056743 [0.88614381 1.3759978  3.88167004]\n",
      "\n",
      "=======================\n",
      "a_1.03\n",
      "2.26604997 [-3.16242617 -2.85888277 -6.25442817]\n",
      "\n",
      "5.81029229 [0.9173806  1.40842679 4.01352582]\n",
      "\n",
      "=======================\n",
      "a_1.04\n",
      "2.07986632 [-2.97526603 -2.52729948 -7.20668024]\n",
      "\n",
      "5.5172152 [0.94907331 1.44333921 4.14935257]\n",
      "\n",
      "=======================\n",
      "a_1.05\n",
      "1.8996901 [-2.8194727  -2.27170287 -8.40142679]\n",
      "\n",
      "5.2302966 [0.98165827 1.48046061 4.28984771]\n",
      "\n",
      "=======================\n",
      "a_1.06\n",
      "1.72481853 [ -2.70011388  -2.05862179 -10.15187164]\n",
      "\n",
      "4.94952371 [1.01482141 1.52031168 4.43820082]\n",
      "\n"
     ]
    }
   ],
   "source": [
    "!bash get_bands_forall.sh"
   ]
  },
  {
   "cell_type": "code",
   "execution_count": null,
   "metadata": {},
   "outputs": [],
   "source": []
  }
 ],
 "metadata": {
  "kernelspec": {
   "display_name": "Python 3",
   "language": "python",
   "name": "python3"
  },
  "language_info": {
   "codemirror_mode": {
    "name": "ipython",
    "version": 3
   },
   "file_extension": ".py",
   "mimetype": "text/x-python",
   "name": "python",
   "nbconvert_exporter": "python",
   "pygments_lexer": "ipython3",
   "version": "3.6.10"
  }
 },
 "nbformat": 4,
 "nbformat_minor": 2
}

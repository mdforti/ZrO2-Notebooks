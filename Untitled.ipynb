{
 "cells": [
  {
   "cell_type": "code",
   "execution_count": 2,
   "metadata": {},
   "outputs": [],
   "source": [
    "import matplotlib.pyplot as plt\n",
    "import numpy as np\n",
    "import pandas as pd"
   ]
  },
  {
   "cell_type": "code",
   "execution_count": 3,
   "metadata": {},
   "outputs": [],
   "source": [
    "plt.rc('font',size=14)\n",
    "plt.rc('figure',figsize=(8,6))\n",
    "plt.rc('text', usetex=True)"
   ]
  },
  {
   "cell_type": "code",
   "execution_count": 4,
   "metadata": {},
   "outputs": [],
   "source": [
    "data = pd.read_csv('more_useful_data.txt',sep=' ')\n",
    "\n",
    "data=data.drop(columns=['Unnamed: 1','Unnamed: 2','|','band'])\n",
    "\n",
    "data['system']=[(int(s.replace('ZrO2-',''))+1000)/1000 for s in data['system']]"
   ]
  },
  {
   "cell_type": "markdown",
   "metadata": {},
   "source": [
    "# Vanda de Velencia"
   ]
  },
  {
   "cell_type": "code",
   "execution_count": 5,
   "metadata": {},
   "outputs": [],
   "source": [
    "m_h_zg = data[(data['from']=='(Z)') & (data['to']=='(gamma)') &(data['no']==23)]\n",
    "\n",
    "m_h_za = data[(data['from']=='(Z)') & (data['to']=='(A)')&(data['no']==23)]"
   ]
  },
  {
   "cell_type": "code",
   "execution_count": 6,
   "metadata": {},
   "outputs": [
    {
     "data": {
      "text/html": [
       "<div>\n",
       "<style scoped>\n",
       "    .dataframe tbody tr th:only-of-type {\n",
       "        vertical-align: middle;\n",
       "    }\n",
       "\n",
       "    .dataframe tbody tr th {\n",
       "        vertical-align: top;\n",
       "    }\n",
       "\n",
       "    .dataframe thead th {\n",
       "        text-align: right;\n",
       "    }\n",
       "</style>\n",
       "<table border=\"1\" class=\"dataframe\">\n",
       "  <thead>\n",
       "    <tr style=\"text-align: right;\">\n",
       "      <th></th>\n",
       "      <th>system</th>\n",
       "      <th>mass</th>\n",
       "      <th>value</th>\n",
       "      <th>no</th>\n",
       "      <th>spin</th>\n",
       "      <th>from</th>\n",
       "      <th>to</th>\n",
       "    </tr>\n",
       "  </thead>\n",
       "  <tbody>\n",
       "    <tr>\n",
       "      <th>2</th>\n",
       "      <td>1.000</td>\n",
       "      <td>m_h:</td>\n",
       "      <td>-1.015</td>\n",
       "      <td>23</td>\n",
       "      <td>(up)</td>\n",
       "      <td>(Z)</td>\n",
       "      <td>(A)</td>\n",
       "    </tr>\n",
       "    <tr>\n",
       "      <th>12</th>\n",
       "      <td>1.005</td>\n",
       "      <td>m_h:</td>\n",
       "      <td>-1.018</td>\n",
       "      <td>23</td>\n",
       "      <td>(up)</td>\n",
       "      <td>(Z)</td>\n",
       "      <td>(A)</td>\n",
       "    </tr>\n",
       "    <tr>\n",
       "      <th>22</th>\n",
       "      <td>1.010</td>\n",
       "      <td>m_h:</td>\n",
       "      <td>-1.017</td>\n",
       "      <td>23</td>\n",
       "      <td>(up)</td>\n",
       "      <td>(Z)</td>\n",
       "      <td>(A)</td>\n",
       "    </tr>\n",
       "    <tr>\n",
       "      <th>32</th>\n",
       "      <td>1.015</td>\n",
       "      <td>m_h:</td>\n",
       "      <td>-1.016</td>\n",
       "      <td>23</td>\n",
       "      <td>(up)</td>\n",
       "      <td>(Z)</td>\n",
       "      <td>(A)</td>\n",
       "    </tr>\n",
       "    <tr>\n",
       "      <th>42</th>\n",
       "      <td>1.020</td>\n",
       "      <td>m_h:</td>\n",
       "      <td>-1.015</td>\n",
       "      <td>23</td>\n",
       "      <td>(up)</td>\n",
       "      <td>(Z)</td>\n",
       "      <td>(A)</td>\n",
       "    </tr>\n",
       "    <tr>\n",
       "      <th>52</th>\n",
       "      <td>1.025</td>\n",
       "      <td>m_h:</td>\n",
       "      <td>-1.014</td>\n",
       "      <td>23</td>\n",
       "      <td>(up)</td>\n",
       "      <td>(Z)</td>\n",
       "      <td>(A)</td>\n",
       "    </tr>\n",
       "    <tr>\n",
       "      <th>62</th>\n",
       "      <td>1.030</td>\n",
       "      <td>m_h:</td>\n",
       "      <td>-1.014</td>\n",
       "      <td>23</td>\n",
       "      <td>(up)</td>\n",
       "      <td>(Z)</td>\n",
       "      <td>(A)</td>\n",
       "    </tr>\n",
       "    <tr>\n",
       "      <th>72</th>\n",
       "      <td>1.035</td>\n",
       "      <td>m_h:</td>\n",
       "      <td>-1.012</td>\n",
       "      <td>23</td>\n",
       "      <td>(up)</td>\n",
       "      <td>(Z)</td>\n",
       "      <td>(A)</td>\n",
       "    </tr>\n",
       "    <tr>\n",
       "      <th>82</th>\n",
       "      <td>1.040</td>\n",
       "      <td>m_h:</td>\n",
       "      <td>-1.011</td>\n",
       "      <td>23</td>\n",
       "      <td>(up)</td>\n",
       "      <td>(Z)</td>\n",
       "      <td>(A)</td>\n",
       "    </tr>\n",
       "  </tbody>\n",
       "</table>\n",
       "</div>"
      ],
      "text/plain": [
       "    system  mass  value  no  spin from   to\n",
       "2    1.000  m_h: -1.015  23  (up)  (Z)  (A)\n",
       "12   1.005  m_h: -1.018  23  (up)  (Z)  (A)\n",
       "22   1.010  m_h: -1.017  23  (up)  (Z)  (A)\n",
       "32   1.015  m_h: -1.016  23  (up)  (Z)  (A)\n",
       "42   1.020  m_h: -1.015  23  (up)  (Z)  (A)\n",
       "52   1.025  m_h: -1.014  23  (up)  (Z)  (A)\n",
       "62   1.030  m_h: -1.014  23  (up)  (Z)  (A)\n",
       "72   1.035  m_h: -1.012  23  (up)  (Z)  (A)\n",
       "82   1.040  m_h: -1.011  23  (up)  (Z)  (A)"
      ]
     },
     "execution_count": 6,
     "metadata": {},
     "output_type": "execute_result"
    }
   ],
   "source": [
    "m_h_za"
   ]
  },
  {
   "cell_type": "code",
   "execution_count": 7,
   "metadata": {},
   "outputs": [
    {
     "data": {
      "text/plain": [
       "<matplotlib.legend.Legend at 0x7fe58ddb3278>"
      ]
     },
     "execution_count": 7,
     "metadata": {},
     "output_type": "execute_result"
    },
    {
     "data": {
      "image/png": "[encoded data removed]",
      "text/plain": [
       "<Figure size 576x432 with 2 Axes>"
      ]
     },
     "metadata": {
      "needs_background": "light"
     },
     "output_type": "display_data"
    }
   ],
   "source": [
    "fig, ax = plt.subplots(2,1, sharex=True)\n",
    "ax[0].plot(m_h_zg['system'], m_h_zg['value'], label=r'$ Z \\rightarrow\\Gamma $')\n",
    "ax[1].plot(m_h_za['system'], m_h_za['value'], label=r'$ X \\rightarrow\\Gamma $')\n",
    "ax[0].set_title('valence band')\n",
    "ax[1].set_xlabel(r'$a(\\AA)$', fontsize=18)\n",
    "ax[0].set_ylabel( r'$m^* (\\hbar / m_e)$', fontsize=18)\n",
    "ax[0].legend()\n",
    "ax[1].legend()\n"
   ]
  },
  {
   "cell_type": "markdown",
   "metadata": {},
   "source": [
    "# Banda de Conduccion"
   ]
  },
  {
   "cell_type": "code",
   "execution_count": 8,
   "metadata": {},
   "outputs": [],
   "source": [
    "m_e_gz = data[(data['from']=='(gamma)') & (data['to']=='(Z)') & (data['spin']=='(up)')]\n",
    "m_e_gx = data[(data['from']=='(gamma)') & (data['to']=='(X)') & (data['spin']=='(up)')]"
   ]
  },
  {
   "cell_type": "code",
   "execution_count": 9,
   "metadata": {},
   "outputs": [
    {
     "data": {
      "text/html": [
       "<div>\n",
       "<style scoped>\n",
       "    .dataframe tbody tr th:only-of-type {\n",
       "        vertical-align: middle;\n",
       "    }\n",
       "\n",
       "    .dataframe tbody tr th {\n",
       "        vertical-align: top;\n",
       "    }\n",
       "\n",
       "    .dataframe thead th {\n",
       "        text-align: right;\n",
       "    }\n",
       "</style>\n",
       "<table border=\"1\" class=\"dataframe\">\n",
       "  <thead>\n",
       "    <tr style=\"text-align: right;\">\n",
       "      <th></th>\n",
       "      <th>system</th>\n",
       "      <th>mass</th>\n",
       "      <th>value</th>\n",
       "      <th>no</th>\n",
       "      <th>spin</th>\n",
       "      <th>from</th>\n",
       "      <th>to</th>\n",
       "    </tr>\n",
       "  </thead>\n",
       "  <tbody>\n",
       "    <tr>\n",
       "      <th>7</th>\n",
       "      <td>1.000</td>\n",
       "      <td>m_e:</td>\n",
       "      <td>2.301</td>\n",
       "      <td>25</td>\n",
       "      <td>(up)</td>\n",
       "      <td>(gamma)</td>\n",
       "      <td>(Z)</td>\n",
       "    </tr>\n",
       "    <tr>\n",
       "      <th>17</th>\n",
       "      <td>1.005</td>\n",
       "      <td>m_e:</td>\n",
       "      <td>2.281</td>\n",
       "      <td>25</td>\n",
       "      <td>(up)</td>\n",
       "      <td>(gamma)</td>\n",
       "      <td>(Z)</td>\n",
       "    </tr>\n",
       "    <tr>\n",
       "      <th>27</th>\n",
       "      <td>1.010</td>\n",
       "      <td>m_e:</td>\n",
       "      <td>2.279</td>\n",
       "      <td>25</td>\n",
       "      <td>(up)</td>\n",
       "      <td>(gamma)</td>\n",
       "      <td>(Z)</td>\n",
       "    </tr>\n",
       "    <tr>\n",
       "      <th>37</th>\n",
       "      <td>1.015</td>\n",
       "      <td>m_e:</td>\n",
       "      <td>2.292</td>\n",
       "      <td>25</td>\n",
       "      <td>(up)</td>\n",
       "      <td>(gamma)</td>\n",
       "      <td>(Z)</td>\n",
       "    </tr>\n",
       "    <tr>\n",
       "      <th>47</th>\n",
       "      <td>1.020</td>\n",
       "      <td>m_e:</td>\n",
       "      <td>2.300</td>\n",
       "      <td>25</td>\n",
       "      <td>(up)</td>\n",
       "      <td>(gamma)</td>\n",
       "      <td>(Z)</td>\n",
       "    </tr>\n",
       "    <tr>\n",
       "      <th>57</th>\n",
       "      <td>1.025</td>\n",
       "      <td>m_e:</td>\n",
       "      <td>2.297</td>\n",
       "      <td>25</td>\n",
       "      <td>(up)</td>\n",
       "      <td>(gamma)</td>\n",
       "      <td>(Z)</td>\n",
       "    </tr>\n",
       "    <tr>\n",
       "      <th>67</th>\n",
       "      <td>1.030</td>\n",
       "      <td>m_e:</td>\n",
       "      <td>2.293</td>\n",
       "      <td>25</td>\n",
       "      <td>(up)</td>\n",
       "      <td>(gamma)</td>\n",
       "      <td>(Z)</td>\n",
       "    </tr>\n",
       "    <tr>\n",
       "      <th>77</th>\n",
       "      <td>1.035</td>\n",
       "      <td>m_e:</td>\n",
       "      <td>2.315</td>\n",
       "      <td>25</td>\n",
       "      <td>(up)</td>\n",
       "      <td>(gamma)</td>\n",
       "      <td>(Z)</td>\n",
       "    </tr>\n",
       "    <tr>\n",
       "      <th>87</th>\n",
       "      <td>1.040</td>\n",
       "      <td>m_e:</td>\n",
       "      <td>2.312</td>\n",
       "      <td>25</td>\n",
       "      <td>(up)</td>\n",
       "      <td>(gamma)</td>\n",
       "      <td>(Z)</td>\n",
       "    </tr>\n",
       "  </tbody>\n",
       "</table>\n",
       "</div>"
      ],
      "text/plain": [
       "    system  mass  value  no  spin     from   to\n",
       "7    1.000  m_e:  2.301  25  (up)  (gamma)  (Z)\n",
       "17   1.005  m_e:  2.281  25  (up)  (gamma)  (Z)\n",
       "27   1.010  m_e:  2.279  25  (up)  (gamma)  (Z)\n",
       "37   1.015  m_e:  2.292  25  (up)  (gamma)  (Z)\n",
       "47   1.020  m_e:  2.300  25  (up)  (gamma)  (Z)\n",
       "57   1.025  m_e:  2.297  25  (up)  (gamma)  (Z)\n",
       "67   1.030  m_e:  2.293  25  (up)  (gamma)  (Z)\n",
       "77   1.035  m_e:  2.315  25  (up)  (gamma)  (Z)\n",
       "87   1.040  m_e:  2.312  25  (up)  (gamma)  (Z)"
      ]
     },
     "execution_count": 9,
     "metadata": {},
     "output_type": "execute_result"
    }
   ],
   "source": [
    "m_e_gz"
   ]
  },
  {
   "cell_type": "code",
   "execution_count": 10,
   "metadata": {},
   "outputs": [
    {
     "data": {
      "text/plain": [
       "<matplotlib.legend.Legend at 0x7fe58da23c88>"
      ]
     },
     "execution_count": 10,
     "metadata": {},
     "output_type": "execute_result"
    },
    {
     "data": {
      "image/png": "[encoded data removed]",
      "text/plain": [
       "<Figure size 576x432 with 2 Axes>"
      ]
     },
     "metadata": {
      "needs_background": "light"
     },
     "output_type": "display_data"
    }
   ],
   "source": [
    "fig, ax = plt.subplots(2,1, sharex=True)\n",
    "ax[0].plot(m_e_gz['system'], m_e_gz['value'], label=r'$ \\Gamma \\rightarrow Z$')\n",
    "ax[1].plot(m_e_gx['system'], m_e_gx['value'], label=r'$ \\Gamma \\rightarrow X$')\n",
    "ax[1].set_title('valence band')\n",
    "ax[1].set_xlabel(r'$a(\\AA)$', fontsize=18)\n",
    "ax[0].set_ylabel( r'$m^* (\\hbar / m_e)$', fontsize=18)\n",
    "ax[0].legend()\n",
    "ax[1].legend()\n"
   ]
  },
  {
   "cell_type": "markdown",
   "metadata": {},
   "source": [
    "lo que me pregunto es qué tan mal estaba el voumen. efectivamente los cambios de parametro de red son demasiado pequeños y estan pasando cosas raras.\n",
    "Notar que hay cambios de pendiente para a = 1.005"
   ]
  },
  {
   "cell_type": "code",
   "execution_count": 31,
   "metadata": {},
   "outputs": [
    {
     "ename": "FileNotFoundError",
     "evalue": "File b'datavol-isif-is-3.dat' does not exist",
     "output_type": "error",
     "traceback": [
      "\u001b[0;31m---------------------------------------------------------------------------\u001b[0m",
      "\u001b[0;31mFileNotFoundError\u001b[0m                         Traceback (most recent call last)",
      "\u001b[0;32m<ipython-input-31-431600366f93>\u001b[0m in \u001b[0;36m<module>\u001b[0;34m\u001b[0m\n\u001b[0;32m----> 1\u001b[0;31m \u001b[0mdatavol\u001b[0m \u001b[0;34m=\u001b[0m \u001b[0mpd\u001b[0m\u001b[0;34m.\u001b[0m\u001b[0mread_csv\u001b[0m\u001b[0;34m(\u001b[0m\u001b[0;34m'datavol-isif-is-3.dat'\u001b[0m\u001b[0;34m,\u001b[0m \u001b[0msep\u001b[0m\u001b[0;34m=\u001b[0m\u001b[0;34m' '\u001b[0m\u001b[0;34m)\u001b[0m\u001b[0;34m\u001b[0m\u001b[0;34m\u001b[0m\u001b[0m\n\u001b[0m",
      "\u001b[0;32m/usr/lib64/python3.6/site-packages/pandas/io/parsers.py\u001b[0m in \u001b[0;36mparser_f\u001b[0;34m(filepath_or_buffer, sep, delimiter, header, names, index_col, usecols, squeeze, prefix, mangle_dupe_cols, dtype, engine, converters, true_values, false_values, skipinitialspace, skiprows, nrows, na_values, keep_default_na, na_filter, verbose, skip_blank_lines, parse_dates, infer_datetime_format, keep_date_col, date_parser, dayfirst, iterator, chunksize, compression, thousands, decimal, lineterminator, quotechar, quoting, escapechar, comment, encoding, dialect, tupleize_cols, error_bad_lines, warn_bad_lines, skipfooter, doublequote, delim_whitespace, low_memory, memory_map, float_precision)\u001b[0m\n\u001b[1;32m    676\u001b[0m                     skip_blank_lines=skip_blank_lines)\n\u001b[1;32m    677\u001b[0m \u001b[0;34m\u001b[0m\u001b[0m\n\u001b[0;32m--> 678\u001b[0;31m         \u001b[0;32mreturn\u001b[0m \u001b[0m_read\u001b[0m\u001b[0;34m(\u001b[0m\u001b[0mfilepath_or_buffer\u001b[0m\u001b[0;34m,\u001b[0m \u001b[0mkwds\u001b[0m\u001b[0;34m)\u001b[0m\u001b[0;34m\u001b[0m\u001b[0;34m\u001b[0m\u001b[0m\n\u001b[0m\u001b[1;32m    679\u001b[0m \u001b[0;34m\u001b[0m\u001b[0m\n\u001b[1;32m    680\u001b[0m     \u001b[0mparser_f\u001b[0m\u001b[0;34m.\u001b[0m\u001b[0m__name__\u001b[0m \u001b[0;34m=\u001b[0m \u001b[0mname\u001b[0m\u001b[0;34m\u001b[0m\u001b[0;34m\u001b[0m\u001b[0m\n",
      "\u001b[0;32m/usr/lib64/python3.6/site-packages/pandas/io/parsers.py\u001b[0m in \u001b[0;36m_read\u001b[0;34m(filepath_or_buffer, kwds)\u001b[0m\n\u001b[1;32m    438\u001b[0m \u001b[0;34m\u001b[0m\u001b[0m\n\u001b[1;32m    439\u001b[0m     \u001b[0;31m# Create the parser.\u001b[0m\u001b[0;34m\u001b[0m\u001b[0;34m\u001b[0m\u001b[0;34m\u001b[0m\u001b[0m\n\u001b[0;32m--> 440\u001b[0;31m     \u001b[0mparser\u001b[0m \u001b[0;34m=\u001b[0m \u001b[0mTextFileReader\u001b[0m\u001b[0;34m(\u001b[0m\u001b[0mfilepath_or_buffer\u001b[0m\u001b[0;34m,\u001b[0m \u001b[0;34m**\u001b[0m\u001b[0mkwds\u001b[0m\u001b[0;34m)\u001b[0m\u001b[0;34m\u001b[0m\u001b[0;34m\u001b[0m\u001b[0m\n\u001b[0m\u001b[1;32m    441\u001b[0m \u001b[0;34m\u001b[0m\u001b[0m\n\u001b[1;32m    442\u001b[0m     \u001b[0;32mif\u001b[0m \u001b[0mchunksize\u001b[0m \u001b[0;32mor\u001b[0m \u001b[0miterator\u001b[0m\u001b[0;34m:\u001b[0m\u001b[0;34m\u001b[0m\u001b[0;34m\u001b[0m\u001b[0m\n",
      "\u001b[0;32m/usr/lib64/python3.6/site-packages/pandas/io/parsers.py\u001b[0m in \u001b[0;36m__init__\u001b[0;34m(self, f, engine, **kwds)\u001b[0m\n\u001b[1;32m    785\u001b[0m             \u001b[0mself\u001b[0m\u001b[0;34m.\u001b[0m\u001b[0moptions\u001b[0m\u001b[0;34m[\u001b[0m\u001b[0;34m'has_index_names'\u001b[0m\u001b[0;34m]\u001b[0m \u001b[0;34m=\u001b[0m \u001b[0mkwds\u001b[0m\u001b[0;34m[\u001b[0m\u001b[0;34m'has_index_names'\u001b[0m\u001b[0;34m]\u001b[0m\u001b[0;34m\u001b[0m\u001b[0;34m\u001b[0m\u001b[0m\n\u001b[1;32m    786\u001b[0m \u001b[0;34m\u001b[0m\u001b[0m\n\u001b[0;32m--> 787\u001b[0;31m         \u001b[0mself\u001b[0m\u001b[0;34m.\u001b[0m\u001b[0m_make_engine\u001b[0m\u001b[0;34m(\u001b[0m\u001b[0mself\u001b[0m\u001b[0;34m.\u001b[0m\u001b[0mengine\u001b[0m\u001b[0;34m)\u001b[0m\u001b[0;34m\u001b[0m\u001b[0;34m\u001b[0m\u001b[0m\n\u001b[0m\u001b[1;32m    788\u001b[0m \u001b[0;34m\u001b[0m\u001b[0m\n\u001b[1;32m    789\u001b[0m     \u001b[0;32mdef\u001b[0m \u001b[0mclose\u001b[0m\u001b[0;34m(\u001b[0m\u001b[0mself\u001b[0m\u001b[0;34m)\u001b[0m\u001b[0;34m:\u001b[0m\u001b[0;34m\u001b[0m\u001b[0;34m\u001b[0m\u001b[0m\n",
      "\u001b[0;32m/usr/lib64/python3.6/site-packages/pandas/io/parsers.py\u001b[0m in \u001b[0;36m_make_engine\u001b[0;34m(self, engine)\u001b[0m\n\u001b[1;32m   1012\u001b[0m     \u001b[0;32mdef\u001b[0m \u001b[0m_make_engine\u001b[0m\u001b[0;34m(\u001b[0m\u001b[0mself\u001b[0m\u001b[0;34m,\u001b[0m \u001b[0mengine\u001b[0m\u001b[0;34m=\u001b[0m\u001b[0;34m'c'\u001b[0m\u001b[0;34m)\u001b[0m\u001b[0;34m:\u001b[0m\u001b[0;34m\u001b[0m\u001b[0;34m\u001b[0m\u001b[0m\n\u001b[1;32m   1013\u001b[0m         \u001b[0;32mif\u001b[0m \u001b[0mengine\u001b[0m \u001b[0;34m==\u001b[0m \u001b[0;34m'c'\u001b[0m\u001b[0;34m:\u001b[0m\u001b[0;34m\u001b[0m\u001b[0;34m\u001b[0m\u001b[0m\n\u001b[0;32m-> 1014\u001b[0;31m             \u001b[0mself\u001b[0m\u001b[0;34m.\u001b[0m\u001b[0m_engine\u001b[0m \u001b[0;34m=\u001b[0m \u001b[0mCParserWrapper\u001b[0m\u001b[0;34m(\u001b[0m\u001b[0mself\u001b[0m\u001b[0;34m.\u001b[0m\u001b[0mf\u001b[0m\u001b[0;34m,\u001b[0m \u001b[0;34m**\u001b[0m\u001b[0mself\u001b[0m\u001b[0;34m.\u001b[0m\u001b[0moptions\u001b[0m\u001b[0;34m)\u001b[0m\u001b[0;34m\u001b[0m\u001b[0;34m\u001b[0m\u001b[0m\n\u001b[0m\u001b[1;32m   1015\u001b[0m         \u001b[0;32melse\u001b[0m\u001b[0;34m:\u001b[0m\u001b[0;34m\u001b[0m\u001b[0;34m\u001b[0m\u001b[0m\n\u001b[1;32m   1016\u001b[0m             \u001b[0;32mif\u001b[0m \u001b[0mengine\u001b[0m \u001b[0;34m==\u001b[0m \u001b[0;34m'python'\u001b[0m\u001b[0;34m:\u001b[0m\u001b[0;34m\u001b[0m\u001b[0;34m\u001b[0m\u001b[0m\n",
      "\u001b[0;32m/usr/lib64/python3.6/site-packages/pandas/io/parsers.py\u001b[0m in \u001b[0;36m__init__\u001b[0;34m(self, src, **kwds)\u001b[0m\n\u001b[1;32m   1706\u001b[0m         \u001b[0mkwds\u001b[0m\u001b[0;34m[\u001b[0m\u001b[0;34m'usecols'\u001b[0m\u001b[0;34m]\u001b[0m \u001b[0;34m=\u001b[0m \u001b[0mself\u001b[0m\u001b[0;34m.\u001b[0m\u001b[0musecols\u001b[0m\u001b[0;34m\u001b[0m\u001b[0;34m\u001b[0m\u001b[0m\n\u001b[1;32m   1707\u001b[0m \u001b[0;34m\u001b[0m\u001b[0m\n\u001b[0;32m-> 1708\u001b[0;31m         \u001b[0mself\u001b[0m\u001b[0;34m.\u001b[0m\u001b[0m_reader\u001b[0m \u001b[0;34m=\u001b[0m \u001b[0mparsers\u001b[0m\u001b[0;34m.\u001b[0m\u001b[0mTextReader\u001b[0m\u001b[0;34m(\u001b[0m\u001b[0msrc\u001b[0m\u001b[0;34m,\u001b[0m \u001b[0;34m**\u001b[0m\u001b[0mkwds\u001b[0m\u001b[0;34m)\u001b[0m\u001b[0;34m\u001b[0m\u001b[0;34m\u001b[0m\u001b[0m\n\u001b[0m\u001b[1;32m   1709\u001b[0m \u001b[0;34m\u001b[0m\u001b[0m\n\u001b[1;32m   1710\u001b[0m         \u001b[0mpassed_names\u001b[0m \u001b[0;34m=\u001b[0m \u001b[0mself\u001b[0m\u001b[0;34m.\u001b[0m\u001b[0mnames\u001b[0m \u001b[0;32mis\u001b[0m \u001b[0;32mNone\u001b[0m\u001b[0;34m\u001b[0m\u001b[0;34m\u001b[0m\u001b[0m\n",
      "\u001b[0;32mpandas/_libs/parsers.pyx\u001b[0m in \u001b[0;36mpandas._libs.parsers.TextReader.__cinit__\u001b[0;34m()\u001b[0m\n",
      "\u001b[0;32mpandas/_libs/parsers.pyx\u001b[0m in \u001b[0;36mpandas._libs.parsers.TextReader._setup_parser_source\u001b[0;34m()\u001b[0m\n",
      "\u001b[0;31mFileNotFoundError\u001b[0m: File b'datavol-isif-is-3.dat' does not exist"
     ]
    }
   ],
   "source": [
    "datavol = pd.read_csv('datavol-isif-is-3.dat', sep=' ')"
   ]
  },
  {
   "cell_type": "code",
   "execution_count": 22,
   "metadata": {},
   "outputs": [
    {
     "data": {
      "text/html": [
       "<div>\n",
       "<style scoped>\n",
       "    .dataframe tbody tr th:only-of-type {\n",
       "        vertical-align: middle;\n",
       "    }\n",
       "\n",
       "    .dataframe tbody tr th {\n",
       "        vertical-align: top;\n",
       "    }\n",
       "\n",
       "    .dataframe thead th {\n",
       "        text-align: right;\n",
       "    }\n",
       "</style>\n",
       "<table border=\"1\" class=\"dataframe\">\n",
       "  <thead>\n",
       "    <tr style=\"text-align: right;\">\n",
       "      <th></th>\n",
       "      <th>Vol</th>\n",
       "      <th>Evsk1</th>\n",
       "      <th>Evsk2</th>\n",
       "      <th>Evsk3</th>\n",
       "      <th>Evsk4</th>\n",
       "    </tr>\n",
       "  </thead>\n",
       "  <tbody>\n",
       "    <tr>\n",
       "      <th>0</th>\n",
       "      <td>70.36</td>\n",
       "      <td>-56.799951</td>\n",
       "      <td>-56.800296</td>\n",
       "      <td>-56.800426</td>\n",
       "      <td>-56.800362</td>\n",
       "    </tr>\n",
       "    <tr>\n",
       "      <th>1</th>\n",
       "      <td>70.29</td>\n",
       "      <td>-56.799831</td>\n",
       "      <td>-56.800184</td>\n",
       "      <td>-56.800308</td>\n",
       "      <td>-56.800263</td>\n",
       "    </tr>\n",
       "    <tr>\n",
       "      <th>2</th>\n",
       "      <td>70.30</td>\n",
       "      <td>-56.800163</td>\n",
       "      <td>-56.800509</td>\n",
       "      <td>-56.800648</td>\n",
       "      <td>-56.800565</td>\n",
       "    </tr>\n",
       "    <tr>\n",
       "      <th>3</th>\n",
       "      <td>70.34</td>\n",
       "      <td>-56.800452</td>\n",
       "      <td>-56.800794</td>\n",
       "      <td>-56.800938</td>\n",
       "      <td>-56.800874</td>\n",
       "    </tr>\n",
       "    <tr>\n",
       "      <th>4</th>\n",
       "      <td>70.39</td>\n",
       "      <td>-56.800705</td>\n",
       "      <td>-56.801042</td>\n",
       "      <td>-56.801191</td>\n",
       "      <td>-56.801153</td>\n",
       "    </tr>\n",
       "    <tr>\n",
       "      <th>5</th>\n",
       "      <td>70.42</td>\n",
       "      <td>-56.800891</td>\n",
       "      <td>-56.801220</td>\n",
       "      <td>-56.801383</td>\n",
       "      <td>-56.801314</td>\n",
       "    </tr>\n",
       "    <tr>\n",
       "      <th>6</th>\n",
       "      <td>70.49</td>\n",
       "      <td>-56.800999</td>\n",
       "      <td>-56.801354</td>\n",
       "      <td>-56.801510</td>\n",
       "      <td>-56.801440</td>\n",
       "    </tr>\n",
       "    <tr>\n",
       "      <th>7</th>\n",
       "      <td>70.65</td>\n",
       "      <td>-56.800791</td>\n",
       "      <td>-56.801153</td>\n",
       "      <td>-56.801305</td>\n",
       "      <td>-56.801264</td>\n",
       "    </tr>\n",
       "    <tr>\n",
       "      <th>8</th>\n",
       "      <td>70.70</td>\n",
       "      <td>-56.800726</td>\n",
       "      <td>-56.801072</td>\n",
       "      <td>-56.801231</td>\n",
       "      <td>-56.801192</td>\n",
       "    </tr>\n",
       "  </tbody>\n",
       "</table>\n",
       "</div>"
      ],
      "text/plain": [
       "     Vol      Evsk1      Evsk2      Evsk3      Evsk4\n",
       "0  70.36 -56.799951 -56.800296 -56.800426 -56.800362\n",
       "1  70.29 -56.799831 -56.800184 -56.800308 -56.800263\n",
       "2  70.30 -56.800163 -56.800509 -56.800648 -56.800565\n",
       "3  70.34 -56.800452 -56.800794 -56.800938 -56.800874\n",
       "4  70.39 -56.800705 -56.801042 -56.801191 -56.801153\n",
       "5  70.42 -56.800891 -56.801220 -56.801383 -56.801314\n",
       "6  70.49 -56.800999 -56.801354 -56.801510 -56.801440\n",
       "7  70.65 -56.800791 -56.801153 -56.801305 -56.801264\n",
       "8  70.70 -56.800726 -56.801072 -56.801231 -56.801192"
      ]
     },
     "execution_count": 22,
     "metadata": {},
     "output_type": "execute_result"
    }
   ],
   "source": [
    "datavol"
   ]
  },
  {
   "cell_type": "code",
   "execution_count": 30,
   "metadata": {},
   "outputs": [
    {
     "data": {
      "text/plain": [
       "Text(0, 0.5, 'E (eV)')"
      ]
     },
     "execution_count": 30,
     "metadata": {},
     "output_type": "execute_result"
    },
    {
     "data": {
      "image/png": "[encoded data removed]",
      "text/plain": [
       "<Figure size 576x432 with 1 Axes>"
      ]
     },
     "metadata": {
      "needs_background": "light"
     },
     "output_type": "display_data"
    }
   ],
   "source": [
    "plt.plot(datavol['Vol'], datavol['Evsk1'],'-o', label='9x9x7')\n",
    "plt.plot(datavol['Vol'], datavol['Evsk2'],'-o', label='11x11x9')\n",
    "plt.plot(datavol['Vol'], datavol['Evsk3'],'-o', label='13x13x11')\n",
    "plt.plot(datavol['Vol'], datavol['Evsk4'],'-o', label='15x15x9')\n",
    "plt.legend()\n",
    "plt.xlabel(r'cell vol ($\\AA$)')\n",
    "plt.ylabel('E (eV)')"
   ]
  },
  {
   "cell_type": "markdown",
   "metadata": {},
   "source": [
    "dos conclusiones de ese grafico: \n",
    "1. los volumenes son cualquiera,\n",
    "2. no estaba convergido en puntos k."
   ]
  },
  {
   "cell_type": "code",
   "execution_count": null,
   "metadata": {},
   "outputs": [],
   "source": []
  }
 ],
 "metadata": {
  "kernelspec": {
   "display_name": "Python 3",
   "language": "python",
   "name": "python3"
  },
  "language_info": {
   "codemirror_mode": {
    "name": "ipython",
    "version": 3
   },
   "file_extension": ".py",
   "mimetype": "text/x-python",
   "name": "python",
   "nbconvert_exporter": "python",
   "pygments_lexer": "ipython3",
   "version": "3.6.10"
  }
 },
 "nbformat": 4,
 "nbformat_minor": 2
}

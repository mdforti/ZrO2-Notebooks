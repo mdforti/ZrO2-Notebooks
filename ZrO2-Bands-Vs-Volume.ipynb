{
 "cells": [
  {
   "cell_type": "code",
   "execution_count": 1,
   "metadata": {},
   "outputs": [],
   "source": [
    "from IPython.display import IFrame"
   ]
  },
  {
   "cell_type": "markdown",
   "metadata": {},
   "source": [
    "# Masas vs Volumen"
   ]
  },
  {
   "cell_type": "markdown",
   "metadata": {},
   "source": [
    "lo que tengo que hacer ahora es un barrido del volumen en función del volumen. \n",
    "\n",
    "El barrido en factores de escala sería (me lo pasó pablo):"
   ]
  },
  {
   "cell_type": "code",
   "execution_count": 2,
   "metadata": {},
   "outputs": [
    {
     "data": {
      "text/plain": [
       "array([0.96 , 0.965, 0.97 , 0.975, 0.98 , 0.985, 0.99 , 0.995, 1.   ,\n",
       "       1.005, 1.01 , 1.015, 1.02 , 1.025, 1.03 , 1.035, 1.04 ])"
      ]
     },
     "execution_count": 2,
     "metadata": {},
     "output_type": "execute_result"
    }
   ],
   "source": [
    "import numpy as np\n",
    "a=np.linspace(0.96, 1.04, int((1.04-0.96)/0.005)+1)\n",
    "a"
   ]
  },
  {
   "cell_type": "markdown",
   "metadata": {},
   "source": [
    "Lo otro que hay que decidir bien es cuáles son los caminos para calcular las bandas.\n",
    "Tengo que pensar que necesito mx, my, mz tanto para el electron como para el hueco, pero el hueco esta en $Z$ mientras que el electrón está en $\\Gamma$.\n",
    "\n",
    "Me acuerdo de que los caminos son:\n",
    "\n",
    "![Tetragonal Brillouin Zone](Simple_Tetragonal_Lattice_(Brillouin_zone).png)"
   ]
  },
  {
   "cell_type": "markdown",
   "metadata": {},
   "source": [
    "entonces, haciendo $X-\\Gamma$, $\\Gamma-Z$ y $\\Gamma-X'$ tendria todas las direcciones para el electrón, mientras que para el hueco tendría que hacer: $\\Gamma - Z$, $Z - R$ y $Z-R'$. no me acuerdo cuáles le puse al archivo. a ver ?"
   ]
  },
  {
   "cell_type": "markdown",
   "metadata": {},
   "source": [
    "----------------"
   ]
  },
  {
   "cell_type": "markdown",
   "metadata": {},
   "source": [
    "luego de correr script:"
   ]
  },
  {
   "cell_type": "code",
   "execution_count": 3,
   "metadata": {},
   "outputs": [
    {
     "data": {
      "text/html": [
       "\n",
       "        <iframe\n",
       "            width=\"800\"\n",
       "            height=\"900\"\n",
       "            src=\"alldata.txt\"\n",
       "            frameborder=\"0\"\n",
       "            allowfullscreen\n",
       "        ></iframe>\n",
       "        "
      ],
      "text/plain": [
       "<IPython.lib.display.IFrame at 0x7fb14842aba8>"
      ]
     },
     "execution_count": 3,
     "metadata": {},
     "output_type": "execute_result"
    }
   ],
   "source": [
    "IFrame('alldata.txt', 800, 900)"
   ]
  },
  {
   "cell_type": "code",
   "execution_count": null,
   "metadata": {},
   "outputs": [],
   "source": []
  }
 ],
 "metadata": {
  "kernelspec": {
   "display_name": "Python 3",
   "language": "python",
   "name": "python3"
  },
  "language_info": {
   "codemirror_mode": {
    "name": "ipython",
    "version": 3
   },
   "file_extension": ".py",
   "mimetype": "text/x-python",
   "name": "python",
   "nbconvert_exporter": "python",
   "pygments_lexer": "ipython3",
   "version": "3.6.10"
  }
 },
 "nbformat": 4,
 "nbformat_minor": 2
}
